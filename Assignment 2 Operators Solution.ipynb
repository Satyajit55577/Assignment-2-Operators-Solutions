{
 "cells": [
  {
   "cell_type": "code",
   "execution_count": 3,
   "id": "9bc56cf9-4027-4888-920b-7dbd1ce689aa",
   "metadata": {},
   "outputs": [
    {
     "name": "stdout",
     "output_type": "stream",
     "text": [
      "num1 = 57 , num2 = 63\n",
      "The Sum of num1 and num2 is: 120\n",
      "The Difference of num1 and num2 is: -6\n",
      "The Product of num1 and num2 is: 3591\n",
      "The Quotient of num1 and num2 is: 0.9047619047619048\n"
     ]
    }
   ],
   "source": [
    "# Q1 Ans: Sum, Difference, Product and Quotient of two numbers\n",
    "num1 = 57\n",
    "num2 = 63\n",
    "print(\"num1 = 57\", \",\", \"num2 = 63\")\n",
    "print(\"The Sum of num1 and num2 is:\", num1 + num2)\n",
    "print(\"The Difference of num1 and num2 is:\", num1 - num2)\n",
    "print(\"The Product of num1 and num2 is:\", num1 * num2)\n",
    "print(\"The Quotient of num1 and num2 is:\", num1 / num2)"
   ]
  },
  {
   "cell_type": "code",
   "execution_count": 9,
   "id": "367b6ba3-6c5c-495f-9adf-d0ec5a53a5cf",
   "metadata": {},
   "outputs": [
    {
     "name": "stdout",
     "output_type": "stream",
     "text": [
      "10\n",
      "13\n",
      "6\n",
      "20\n",
      "1.4285714285714286\n",
      "1\n",
      "1\n",
      "1000\n",
      "2\n",
      "11\n",
      "15\n",
      "2\n",
      "80\n"
     ]
    }
   ],
   "source": [
    "# Q2 Ans: Perform various assignment operations on a variable\n",
    "# 1) =\n",
    "x = 10  # It means the value 10 is assigned to variable x\n",
    "print(x)\n",
    "\n",
    "# 2) =+\n",
    "x = 10\n",
    "x += 3  # It means x = x+3\n",
    "print(x)\n",
    "\n",
    "# 3) -=\n",
    "x = 10\n",
    "x -= 4  # It means x = x-4\n",
    "print(x)\n",
    "\n",
    "# 4) *=\n",
    "x = 10\n",
    "x *= 2  # It means x = x*2\n",
    "print(x)\n",
    "\n",
    "# 5) /=\n",
    "x = 10\n",
    "x /= 7  # It means x = x/7\n",
    "print(x)\n",
    "\n",
    "# 6) //=\n",
    "x = 10\n",
    "x //= 6  # It means x = x//6\n",
    "print(x)\n",
    "\n",
    "# 7) %=\n",
    "x = 10\n",
    "x %= 9 # It means x = x%9\n",
    "print(x)\n",
    "\n",
    "# 8) **=\n",
    "x = 10\n",
    "x **= 3  # It means x = x**3\n",
    "print(x)\n",
    "\n",
    "# 9) &=\n",
    "x = 10\n",
    "x &= 3  # It means x = x&3\n",
    "print(x)\n",
    "\n",
    "# 10) |=\n",
    "x = 10\n",
    "x |= 3  # It means x = x|3\n",
    "print(x)\n",
    "\n",
    "# 11) ^=\n",
    "x = 10\n",
    "x ^= 5  # It means x = x^5\n",
    "print(x)\n",
    "\n",
    "# 12) >>=\n",
    "x = 10\n",
    "x >>= 2  # It means x = x>>3\n",
    "print(x)\n",
    "\n",
    "# 13) <<=\n",
    "x = 10\n",
    "x <<= 3  # It means x = x<<3\n",
    "print(x)"
   ]
  },
  {
   "cell_type": "code",
   "execution_count": 10,
   "id": "26a8ee7f-ead3-4611-be7c-61759dd9df0a",
   "metadata": {},
   "outputs": [
    {
     "name": "stdout",
     "output_type": "stream",
     "text": [
      "n1= 10 n2= 3\n",
      "n1 == n2: False\n",
      "n1 != n2: True\n",
      "n1 > n2: True\n",
      "n1 < n2: False\n",
      "n1 >= n2: True\n",
      "n1 <= n2: False\n"
     ]
    }
   ],
   "source": [
    "# Q3 Ans: Comparing two numbers and printing the result\n",
    "n1 = 10\n",
    "n2 = 3\n",
    "print(\"n1=\", n1, \"n2=\", n2)\n",
    "print(\"n1 == n2:\", n1 == n2)\n",
    "print(\"n1 != n2:\", n1 != n2)\n",
    "print(\"n1 > n2:\", n1 > n2)\n",
    "print(\"n1 < n2:\", n1 < n2)\n",
    "print(\"n1 >= n2:\", n1 >= n2)\n",
    "print(\"n1 <= n2:\", n1 <= n2)"
   ]
  },
  {
   "cell_type": "code",
   "execution_count": 11,
   "id": "acd27818-fa6e-48c9-bc7c-f6996cad5ff5",
   "metadata": {},
   "outputs": [
    {
     "name": "stdout",
     "output_type": "stream",
     "text": [
      "x= 10 y= 3\n",
      "Check conditions x>0, y>0 for all the logical operators\n",
      "x > 0 and y > 0 : True\n",
      "x > 0 or y > 0 : True\n",
      "not (x > 0): False\n",
      "not (y > 0): False\n"
     ]
    }
   ],
   "source": [
    "# Q4 Ans: Check conditions using logical operators\n",
    "x = 10\n",
    "y = 3\n",
    "print(\"x=\", x, \"y=\", y)\n",
    "print(\"Check conditions x>0, y>0 for all the logical operators\")\n",
    "print(\"x > 0 and y > 0 :\", x > 0 and y > 0)\n",
    "print(\"x > 0 or y > 0 :\", x > 0 or y > 0)\n",
    "print(\"not (x > 0):\", not(x > 0))\n",
    "print(\"not (y > 0):\", not(y > 0))"
   ]
  },
  {
   "cell_type": "code",
   "execution_count": 12,
   "id": "afea2e45-0e5b-4c1d-9bbc-77eb7dcf8390",
   "metadata": {},
   "outputs": [
    {
     "name": "stdout",
     "output_type": "stream",
     "text": [
      "x= 5 y= 7\n",
      "x is y: False\n",
      "x is not y: True\n"
     ]
    }
   ],
   "source": [
    "# Q5 Ans: Check the Identity of Variables\n",
    "x = 5\n",
    "y = 7\n",
    "print(\"x=\", x, \"y=\", y)\n",
    "print(\"x is y:\", x is y)\n",
    "print(\"x is not y:\", x is not y)\n"
   ]
  },
  {
   "cell_type": "code",
   "execution_count": 13,
   "id": "6c3d4c52-2232-4c15-a974-51255ef622d4",
   "metadata": {},
   "outputs": [
    {
     "name": "stdout",
     "output_type": "stream",
     "text": [
      "a= 10 b= 3\n",
      "Bitwise AND = a & b = 2\n",
      "Bitwise OR = a | b = 11\n",
      "Bitwise XOR = a ^ b = 9\n",
      "Left shift a by 1 = a << 1 = 20\n",
      "Right shift a by 1 = a >> 1 = 5\n"
     ]
    }
   ],
   "source": [
    "# Q6 Ans: Perform Bitwise operations on any two integers\n",
    "a = 10\n",
    "b = 3\n",
    "print(\"a=\", a, \"b=\", b)\n",
    "print(\"Bitwise AND = a & b =\", a & b)\n",
    "print(\"Bitwise OR = a | b =\", a | b)\n",
    "print(\"Bitwise XOR = a ^ b =\", a ^ b)\n",
    "print(\"Left shift a by 1 = a << 1 =\", a << 1)\n",
    "print(\"Right shift a by 1 = a >> 1 =\", a >> 1)"
   ]
  },
  {
   "cell_type": "code",
   "execution_count": 14,
   "id": "82016cc1-1a6d-436e-8b68-b1827c0962bd",
   "metadata": {},
   "outputs": [
    {
     "name": "stdout",
     "output_type": "stream",
     "text": [
      "num1= 10 num2= -7\n",
      "num1 after sign change is: -10\n",
      "num2 after sign change is: 7\n"
     ]
    }
   ],
   "source": [
    "# Q7 Ans: Use unary operations to change the sign of a number\n",
    "num1 = 10\n",
    "num2 = -7\n",
    "negative_number = -num1  # Here the unary operation -(+ve no.) is used to change the sign of an +ve no.\n",
    "positive_number = -num2  # Here the unary operation -(-ve no.) is used to change the sign of an -ve no.\n",
    "print(\"num1=\", num1, \"num2=\", num2)\n",
    "print(\"num1 after sign change is:\", negative_number)\n",
    "print(\"num2 after sign change is:\", positive_number)"
   ]
  },
  {
   "cell_type": "code",
   "execution_count": 17,
   "id": "b8097a7d-8136-44c0-a025-c6992e52b835",
   "metadata": {},
   "outputs": [
    {
     "name": "stdout",
     "output_type": "stream",
     "text": [
      "Number= 15\n",
      "The Number is Odd\n"
     ]
    }
   ],
   "source": [
    "# Q8 Ans: Use the ternary operator to assign values based on conditions\n",
    "# We will use the ternary operator to check wether number 15 is even or odd\n",
    "number = 15\n",
    "print(\"Number=\", number)\n",
    "print(\"The Number is Even\") if number % 2 == 0 else print(\"The Number is Odd\")"
   ]
  },
  {
   "cell_type": "code",
   "execution_count": null,
   "id": "cbf98191-897c-422c-b410-9b9cab503b93",
   "metadata": {},
   "outputs": [],
   "source": []
  }
 ],
 "metadata": {
  "kernelspec": {
   "display_name": "Python 3 (ipykernel)",
   "language": "python",
   "name": "python3"
  },
  "language_info": {
   "codemirror_mode": {
    "name": "ipython",
    "version": 3
   },
   "file_extension": ".py",
   "mimetype": "text/x-python",
   "name": "python",
   "nbconvert_exporter": "python",
   "pygments_lexer": "ipython3",
   "version": "3.10.8"
  }
 },
 "nbformat": 4,
 "nbformat_minor": 5
}
